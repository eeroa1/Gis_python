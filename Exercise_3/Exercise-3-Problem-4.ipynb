{
 "cells": [
  {
   "cell_type": "markdown",
   "metadata": {},
   "source": [
    "## Problem 4: What is the closest shopping center from your home / work? (5 points)\n",
    "\n",
    "In the last problem you should find out the closest shopping center from two different locations a) your home and b) work place. \n",
    "\n",
    "**Steps**:\n",
    "\n",
    " - Create a txt-file called `activity_locations.txt` (use same formatting as in Problem 1) with two columns:\n",
    "    - `id`: unique id for each row\n",
    "    - `addr`:  address of your work and home (or any two addresses in the Helsinki Region.)\n",
    "    \n",
    "Save the text file into this repository.\n",
    "    \n",
    " - Read those addresses using pandas and geocode the addresses.\n",
    " - Find out the nearest shopping center to these points using Shapely `nearest_points`.\n",
    " - Print out the name of the shopping center that is nearest to a) home and b) work. For example: `Shopping center closest to home: REDI`."
   ]
  },
  {
   "cell_type": "code",
   "execution_count": 1,
   "metadata": {
    "deletable": false,
    "nbgrader": {
     "cell_type": "code",
     "checksum": "f8d9bb1491a5675d77264cebbf529f88",
     "grade": false,
     "grade_id": "read_data",
     "locked": false,
     "schema_version": 3,
     "solution": true
    }
   },
   "outputs": [],
   "source": [
    "# read in input files\n",
    "import geopandas as gpd\n",
    "import pandas as pd\n",
    "\n",
    "fp = \"activity_locations.txt\"\n",
    "data = pd.read_csv(fp, sep=';')"
   ]
  },
  {
   "cell_type": "code",
   "execution_count": 2,
   "metadata": {
    "deletable": false,
    "nbgrader": {
     "cell_type": "code",
     "checksum": "cde51574e6cd404266ead2aad7ac5938",
     "grade": false,
     "grade_id": "geocode",
     "locked": false,
     "schema_version": 3,
     "solution": true,
     "task": false
    }
   },
   "outputs": [],
   "source": [
    "# Geocode activity locations\n",
    "from shapely.geometry import Point, Polygon, LineString, MultiPoint\n",
    "from geopandas.tools import geocode\n",
    "\n",
    "geo = geocode(data['addr'], provider='nominatim', user_agent='exercise_3', timeout=4)"
   ]
  },
  {
   "cell_type": "code",
   "execution_count": 3,
   "metadata": {
    "deletable": false,
    "nbgrader": {
     "cell_type": "code",
     "checksum": "866e8fe33cb5b2e5f7d3fbecd76130f1",
     "grade": false,
     "grade_id": "check_crs",
     "locked": false,
     "schema_version": 3,
     "solution": true,
     "task": false
    }
   },
   "outputs": [
    {
     "data": {
      "text/plain": [
       "<Derived Projected CRS: EPSG:3879>\n",
       "Name: ETRS89 / GK25FIN\n",
       "Axis Info [cartesian]:\n",
       "- N[north]: Northing (metre)\n",
       "- E[east]: Easting (metre)\n",
       "Area of Use:\n",
       "- name: Finland - nominally onshore between 24°30'E and 25°30'E but may be used in adjacent areas if a municipality chooses to use one zone over its whole extent.\n",
       "- bounds: (24.5, 59.94, 25.5, 68.9)\n",
       "Coordinate Operation:\n",
       "- name: Finland Gauss-Kruger zone 25\n",
       "- method: Transverse Mercator\n",
       "Datum: European Terrestrial Reference System 1989 ensemble\n",
       "- Ellipsoid: GRS 1980\n",
       "- Prime Meridian: Greenwich"
      ]
     },
     "execution_count": 3,
     "metadata": {},
     "output_type": "execute_result"
    }
   ],
   "source": [
    "# Check coordinate reference system information (re-project/define if needed)\n",
    "\n",
    "geo.crs\n",
    "geo = geo.to_crs(3879)\n",
    "geo.crs"
   ]
  },
  {
   "cell_type": "code",
   "execution_count": 4,
   "metadata": {},
   "outputs": [],
   "source": [
    "fp2 = \"shopping_centers.shp\"\n",
    "data2 = gpd.read_file(fp2)"
   ]
  },
  {
   "cell_type": "code",
   "execution_count": 46,
   "metadata": {},
   "outputs": [
    {
     "data": {
      "text/html": [
       "<div>\n",
       "<style scoped>\n",
       "    .dataframe tbody tr th:only-of-type {\n",
       "        vertical-align: middle;\n",
       "    }\n",
       "\n",
       "    .dataframe tbody tr th {\n",
       "        vertical-align: top;\n",
       "    }\n",
       "\n",
       "    .dataframe thead th {\n",
       "        text-align: right;\n",
       "    }\n",
       "</style>\n",
       "<table border=\"1\" class=\"dataframe\">\n",
       "  <thead>\n",
       "    <tr style=\"text-align: right;\">\n",
       "      <th></th>\n",
       "      <th>address</th>\n",
       "      <th>id</th>\n",
       "      <th>name</th>\n",
       "      <th>addr</th>\n",
       "      <th>geometry</th>\n",
       "    </tr>\n",
       "  </thead>\n",
       "  <tbody>\n",
       "    <tr>\n",
       "      <th>0</th>\n",
       "      <td>Kauppakeskus Itis, 1-7, Itäkatu, Itäkeskus, Va...</td>\n",
       "      <td>0</td>\n",
       "      <td>Itis</td>\n",
       "      <td>Itäkatu 1-7, 00930 Helsinki, Finland</td>\n",
       "      <td>POINT (25504598.602 6677662.109)</td>\n",
       "    </tr>\n",
       "    <tr>\n",
       "      <th>1</th>\n",
       "      <td>Salaattiasema, 14-20, Mannerheimintie, Keskust...</td>\n",
       "      <td>1</td>\n",
       "      <td>Forum</td>\n",
       "      <td>Mannerheimintie 14-20, 00100 Helsinki, Finland</td>\n",
       "      <td>POINT (25496573.542 6672878.360)</td>\n",
       "    </tr>\n",
       "    <tr>\n",
       "      <th>2</th>\n",
       "      <td>H&amp;M, 11, Piispansilta, Matinkylä, Suur-Matinky...</td>\n",
       "      <td>2</td>\n",
       "      <td>Iso-Omena</td>\n",
       "      <td>Piispansilta 11, 02230 Espoo, Finland</td>\n",
       "      <td>POINT (25485559.440 6671971.772)</td>\n",
       "    </tr>\n",
       "    <tr>\n",
       "      <th>3</th>\n",
       "      <td>Lasten kappeli Arkki, 3-9, Leppävaarankatu, Sä...</td>\n",
       "      <td>3</td>\n",
       "      <td>Sello</td>\n",
       "      <td>Leppävaarankatu 3-9, 02600 Espoo, Finland</td>\n",
       "      <td>POINT (25489491.076 6678322.265)</td>\n",
       "    </tr>\n",
       "    <tr>\n",
       "      <th>4</th>\n",
       "      <td>Stockmann, 3, Vantaanportinkatu, Vantaanportti...</td>\n",
       "      <td>4</td>\n",
       "      <td>Jumbo</td>\n",
       "      <td>Vantaanportinkatu 3, 01510 Vantaa, Finland</td>\n",
       "      <td>POINT (25497943.932 6686656.982)</td>\n",
       "    </tr>\n",
       "    <tr>\n",
       "      <th>5</th>\n",
       "      <td>Silta, 5, Hermannin rantatie, Verkkosaari, Kal...</td>\n",
       "      <td>5</td>\n",
       "      <td>REDI</td>\n",
       "      <td>Hermannin rantatie 5, 00580 Helsinki, Finland</td>\n",
       "      <td>POINT (25498837.156 6674909.983)</td>\n",
       "    </tr>\n",
       "    <tr>\n",
       "      <th>6</th>\n",
       "      <td>Pasilansilta, Keski-Pasila, Pasila, Keskinen s...</td>\n",
       "      <td>6</td>\n",
       "      <td>Tripla</td>\n",
       "      <td>Pasilansilta 11, 00520 Helsinki, Finland</td>\n",
       "      <td>POINT (25496357.756 6676158.372)</td>\n",
       "    </tr>\n",
       "  </tbody>\n",
       "</table>\n",
       "</div>"
      ],
      "text/plain": [
       "                                             address  id       name  \\\n",
       "0  Kauppakeskus Itis, 1-7, Itäkatu, Itäkeskus, Va...   0       Itis   \n",
       "1  Salaattiasema, 14-20, Mannerheimintie, Keskust...   1      Forum   \n",
       "2  H&M, 11, Piispansilta, Matinkylä, Suur-Matinky...   2  Iso-Omena   \n",
       "3  Lasten kappeli Arkki, 3-9, Leppävaarankatu, Sä...   3      Sello   \n",
       "4  Stockmann, 3, Vantaanportinkatu, Vantaanportti...   4      Jumbo   \n",
       "5  Silta, 5, Hermannin rantatie, Verkkosaari, Kal...   5       REDI   \n",
       "6  Pasilansilta, Keski-Pasila, Pasila, Keskinen s...   6     Tripla   \n",
       "\n",
       "                                             addr  \\\n",
       "0            Itäkatu 1-7, 00930 Helsinki, Finland   \n",
       "1  Mannerheimintie 14-20, 00100 Helsinki, Finland   \n",
       "2           Piispansilta 11, 02230 Espoo, Finland   \n",
       "3       Leppävaarankatu 3-9, 02600 Espoo, Finland   \n",
       "4      Vantaanportinkatu 3, 01510 Vantaa, Finland   \n",
       "5   Hermannin rantatie 5, 00580 Helsinki, Finland   \n",
       "6        Pasilansilta 11, 00520 Helsinki, Finland   \n",
       "\n",
       "                           geometry  \n",
       "0  POINT (25504598.602 6677662.109)  \n",
       "1  POINT (25496573.542 6672878.360)  \n",
       "2  POINT (25485559.440 6671971.772)  \n",
       "3  POINT (25489491.076 6678322.265)  \n",
       "4  POINT (25497943.932 6686656.982)  \n",
       "5  POINT (25498837.156 6674909.983)  \n",
       "6  POINT (25496357.756 6676158.372)  "
      ]
     },
     "execution_count": 46,
     "metadata": {},
     "output_type": "execute_result"
    }
   ],
   "source": [
    "data2"
   ]
  },
  {
   "cell_type": "code",
   "execution_count": 44,
   "metadata": {},
   "outputs": [
    {
     "name": "stdout",
     "output_type": "stream",
     "text": [
      "MULTIPOINT (25485559.439737607 6671971.772285322, 25489491.075777505 6678322.265374556, 25496357.756184038 6676158.372235642, 25496573.542415958 6672878.360095562, 25497943.93191118 6686656.981806412, 25498837.15607624 6674909.983273512, 25504598.601623125 6677662.108634275)\n",
      "POINT (3 2) POINT (25485559.439737607 6671971.772285322)\n"
     ]
    }
   ],
   "source": [
    "points11 = data2['geometry'].unary_union\n",
    "print(points11)\n",
    "nearest_geom_test = nearest_points(orig, points11)\n",
    "print(nearest_geom_test[0], nearest_geom_test[1])"
   ]
  },
  {
   "cell_type": "code",
   "execution_count": null,
   "metadata": {},
   "outputs": [],
   "source": []
  },
  {
   "cell_type": "code",
   "execution_count": 50,
   "metadata": {},
   "outputs": [],
   "source": [
    "from shapely.ops import nearest_points\n",
    "\n",
    "def get_nearest_point(row, df2, point_column='geometry', value_column='geometry'):\n",
    "    \n",
    "    # creating multi-geometry from dataframe df2 geometries\n",
    "    scnd_points = df2['geometry'].unary_union\n",
    "    \n",
    "    # finding nearest point for the row in main dataframe and the geometry created from second dataframe\n",
    "    nearest_geom = nearest_points(row[point_column], scnd_points)\n",
    "    \n",
    "    # assigning nearest_data as the nearest point found in the searched row\n",
    "    nearest_data = df2.loc[df2['geometry'] == nearest_geom[1]]\n",
    "    \n",
    "    nearest_value = nearest_data[value_column].values[0]\n",
    "    \n",
    "    return nearest_value"
   ]
  },
  {
   "cell_type": "code",
   "execution_count": 51,
   "metadata": {},
   "outputs": [
    {
     "name": "stderr",
     "output_type": "stream",
     "text": [
      "C:\\ProgramData\\Miniconda3\\envs\\geo\\lib\\site-packages\\pandas\\core\\dtypes\\cast.py:122: ShapelyDeprecationWarning: The array interface is deprecated and will no longer work in Shapely 2.0. Convert the '.coords' to a numpy array instead.\n",
      "  arr = construct_1d_object_array_from_listlike(values)\n"
     ]
    }
   ],
   "source": []
  },
  {
   "cell_type": "code",
   "execution_count": 53,
   "metadata": {},
   "outputs": [],
   "source": []
  },
  {
   "cell_type": "code",
   "execution_count": 54,
   "metadata": {},
   "outputs": [
    {
     "data": {
      "text/html": [
       "<div>\n",
       "<style scoped>\n",
       "    .dataframe tbody tr th:only-of-type {\n",
       "        vertical-align: middle;\n",
       "    }\n",
       "\n",
       "    .dataframe tbody tr th {\n",
       "        vertical-align: top;\n",
       "    }\n",
       "\n",
       "    .dataframe thead th {\n",
       "        text-align: right;\n",
       "    }\n",
       "</style>\n",
       "<table border=\"1\" class=\"dataframe\">\n",
       "  <thead>\n",
       "    <tr style=\"text-align: right;\">\n",
       "      <th></th>\n",
       "      <th>geometry</th>\n",
       "      <th>address</th>\n",
       "      <th>nearest_location</th>\n",
       "      <th>nearest_address</th>\n",
       "    </tr>\n",
       "  </thead>\n",
       "  <tbody>\n",
       "    <tr>\n",
       "      <th>0</th>\n",
       "      <td>POINT (25495463.035 6674670.719)</td>\n",
       "      <td>56, Töölönkatu, Töölö, Eteläinen suurpiiri, He...</td>\n",
       "      <td>POINT (25496357.756 6676158.372)</td>\n",
       "      <td>Tripla</td>\n",
       "    </tr>\n",
       "    <tr>\n",
       "      <th>1</th>\n",
       "      <td>POINT (25498372.175 6677525.309)</td>\n",
       "      <td>5, Koreankatu, Toukola, Keskinen suurpiiri, He...</td>\n",
       "      <td>POINT (25496357.756 6676158.372)</td>\n",
       "      <td>Tripla</td>\n",
       "    </tr>\n",
       "  </tbody>\n",
       "</table>\n",
       "</div>"
      ],
      "text/plain": [
       "                           geometry  \\\n",
       "0  POINT (25495463.035 6674670.719)   \n",
       "1  POINT (25498372.175 6677525.309)   \n",
       "\n",
       "                                             address  \\\n",
       "0  56, Töölönkatu, Töölö, Eteläinen suurpiiri, He...   \n",
       "1  5, Koreankatu, Toukola, Keskinen suurpiiri, He...   \n",
       "\n",
       "                   nearest_location nearest_address  \n",
       "0  POINT (25496357.756 6676158.372)          Tripla  \n",
       "1  POINT (25496357.756 6676158.372)          Tripla  "
      ]
     },
     "execution_count": 54,
     "metadata": {},
     "output_type": "execute_result"
    }
   ],
   "source": [
    "geo"
   ]
  },
  {
   "cell_type": "code",
   "execution_count": 58,
   "metadata": {
    "deletable": false,
    "nbgrader": {
     "cell_type": "code",
     "checksum": "5c1d055ae749e65f0c63e487b074ad21",
     "grade": false,
     "grade_id": "nearest_points",
     "locked": false,
     "schema_version": 3,
     "solution": true,
     "task": false
    }
   },
   "outputs": [
    {
     "name": "stdout",
     "output_type": "stream",
     "text": [
      "Shopping center closest to home is Tripla\n",
      "Shopping center closest to family is Tripla\n"
     ]
    },
    {
     "name": "stderr",
     "output_type": "stream",
     "text": [
      "C:\\ProgramData\\Miniconda3\\envs\\geo\\lib\\site-packages\\pandas\\core\\dtypes\\cast.py:122: ShapelyDeprecationWarning: The array interface is deprecated and will no longer work in Shapely 2.0. Convert the '.coords' to a numpy array instead.\n",
      "  arr = construct_1d_object_array_from_listlike(values)\n"
     ]
    }
   ],
   "source": [
    "# Find the closest shopping center for each activity location (closest shopping center from\n",
    "# and closest shopping center from work) and print out the results:\n",
    "\n",
    "\"\"\"By using the function introduced in nearest neighbour analysis\"\"\"\n",
    "geo['nearest_location'] = geo.apply(get_nearest_point, df2 = data2, point_column = 'geometry', axis=1)\n",
    "geo['nearest_address'] = geo.apply(get_nearest_point, df2 = data2, point_column = 'geometry', value_column = 'name' ,axis=1)\n",
    "geo['Origin'] = ['home', 'family']\n",
    "for origin, dest in zip(geo['Origin'], geo['nearest_address']):\n",
    "    print(\"Shopping center closest to\", origin, \"is\", dest)"
   ]
  },
  {
   "cell_type": "markdown",
   "metadata": {},
   "source": [
    "Can you think of other application cases for the nearest neighbour analysis?"
   ]
  },
  {
   "cell_type": "markdown",
   "metadata": {},
   "source": [
    "I think there are lot of applications for this but the addresses should be searched automatically to make it effective. I decided to check closest shopping malls for couple of universities."
   ]
  },
  {
   "cell_type": "code",
   "execution_count": 126,
   "metadata": {
    "deletable": false,
    "nbgrader": {
     "cell_type": "code",
     "checksum": "9097d06476510270641179f9a799bad7",
     "grade": true,
     "grade_id": "problem_4_check",
     "locked": false,
     "points": 5,
     "schema_version": 3,
     "solution": true
    }
   },
   "outputs": [],
   "source": [
    "fp_uni = \"universities.txt\"\n",
    "unis = pd.read_csv(fp_uni, sep=';')"
   ]
  },
  {
   "cell_type": "code",
   "execution_count": 77,
   "metadata": {},
   "outputs": [
    {
     "data": {
      "text/html": [
       "<div>\n",
       "<style scoped>\n",
       "    .dataframe tbody tr th:only-of-type {\n",
       "        vertical-align: middle;\n",
       "    }\n",
       "\n",
       "    .dataframe tbody tr th {\n",
       "        vertical-align: top;\n",
       "    }\n",
       "\n",
       "    .dataframe thead th {\n",
       "        text-align: right;\n",
       "    }\n",
       "</style>\n",
       "<table border=\"1\" class=\"dataframe\">\n",
       "  <thead>\n",
       "    <tr style=\"text-align: right;\">\n",
       "      <th></th>\n",
       "      <th>id</th>\n",
       "      <th>name</th>\n",
       "      <th>addr</th>\n",
       "    </tr>\n",
       "  </thead>\n",
       "  <tbody>\n",
       "    <tr>\n",
       "      <th>0</th>\n",
       "      <td>0</td>\n",
       "      <td>Hanken</td>\n",
       "      <td>Arkadiankatu 22, 00100 Helsinki, Finland</td>\n",
       "    </tr>\n",
       "    <tr>\n",
       "      <th>1</th>\n",
       "      <td>1</td>\n",
       "      <td>Haaga_Helia</td>\n",
       "      <td>Ratapihantie 13, 00520 Helsinki, Finland</td>\n",
       "    </tr>\n",
       "    <tr>\n",
       "      <th>2</th>\n",
       "      <td>2</td>\n",
       "      <td>Helsingin_yliopisto_keskusta</td>\n",
       "      <td>Yliopistonkatu 4, 00100, Finland</td>\n",
       "    </tr>\n",
       "    <tr>\n",
       "      <th>3</th>\n",
       "      <td>3</td>\n",
       "      <td>Aalto</td>\n",
       "      <td>Otakaari 1, 02150 Espoo, Finland</td>\n",
       "    </tr>\n",
       "    <tr>\n",
       "      <th>4</th>\n",
       "      <td>4</td>\n",
       "      <td>Viikki</td>\n",
       "      <td>Viikin kampus, 00790 Helsinki, Finland</td>\n",
       "    </tr>\n",
       "    <tr>\n",
       "      <th>5</th>\n",
       "      <td>5</td>\n",
       "      <td>Kumpula</td>\n",
       "      <td>Gustaf Hällströmin katu 2, 00560 Helsinki, Fin...</td>\n",
       "    </tr>\n",
       "  </tbody>\n",
       "</table>\n",
       "</div>"
      ],
      "text/plain": [
       "   id                          name  \\\n",
       "0   0                        Hanken   \n",
       "1   1                   Haaga_Helia   \n",
       "2   2  Helsingin_yliopisto_keskusta   \n",
       "3   3                         Aalto   \n",
       "4   4                        Viikki   \n",
       "5   5                       Kumpula   \n",
       "\n",
       "                                                addr  \n",
       "0           Arkadiankatu 22, 00100 Helsinki, Finland  \n",
       "1           Ratapihantie 13, 00520 Helsinki, Finland  \n",
       "2                   Yliopistonkatu 4, 00100, Finland  \n",
       "3                   Otakaari 1, 02150 Espoo, Finland  \n",
       "4             Viikin kampus, 00790 Helsinki, Finland  \n",
       "5  Gustaf Hällströmin katu 2, 00560 Helsinki, Fin...  "
      ]
     },
     "execution_count": 77,
     "metadata": {},
     "output_type": "execute_result"
    }
   ],
   "source": [
    "unis"
   ]
  },
  {
   "cell_type": "code",
   "execution_count": 127,
   "metadata": {},
   "outputs": [],
   "source": [
    "geo_uni = geocode(unis['addr'], provider='nominatim', user_agent='exercise_3', timeout=4)"
   ]
  },
  {
   "cell_type": "code",
   "execution_count": 128,
   "metadata": {},
   "outputs": [],
   "source": [
    "geo_uni.crs\n",
    "geo_uni = geo_uni.to_crs(3879)\n"
   ]
  },
  {
   "cell_type": "code",
   "execution_count": 129,
   "metadata": {},
   "outputs": [],
   "source": [
    "geo_uni['id'] = [0,1,2,3,4,5]\n",
    "geo_uni = geo_uni.merge(unis, on='id')"
   ]
  },
  {
   "cell_type": "code",
   "execution_count": 130,
   "metadata": {},
   "outputs": [],
   "source": [
    "geo_uni['nearest_shop'] = geo_uni.apply(get_nearest_point, df2=data2, point_column= 'geometry', value_column = 'name', axis=1)"
   ]
  },
  {
   "cell_type": "code",
   "execution_count": 123,
   "metadata": {},
   "outputs": [],
   "source": []
  },
  {
   "cell_type": "code",
   "execution_count": 131,
   "metadata": {},
   "outputs": [
    {
     "data": {
      "text/html": [
       "<div>\n",
       "<style scoped>\n",
       "    .dataframe tbody tr th:only-of-type {\n",
       "        vertical-align: middle;\n",
       "    }\n",
       "\n",
       "    .dataframe tbody tr th {\n",
       "        vertical-align: top;\n",
       "    }\n",
       "\n",
       "    .dataframe thead th {\n",
       "        text-align: right;\n",
       "    }\n",
       "</style>\n",
       "<table border=\"1\" class=\"dataframe\">\n",
       "  <thead>\n",
       "    <tr style=\"text-align: right;\">\n",
       "      <th></th>\n",
       "      <th>geometry</th>\n",
       "      <th>address</th>\n",
       "      <th>id</th>\n",
       "      <th>name</th>\n",
       "      <th>addr</th>\n",
       "      <th>nearest_shop</th>\n",
       "    </tr>\n",
       "  </thead>\n",
       "  <tbody>\n",
       "    <tr>\n",
       "      <th>0</th>\n",
       "      <td>POINT (25495794.198 6673144.763)</td>\n",
       "      <td>22, Arkadiankatu, Töölö, Eteläinen suurpiiri, ...</td>\n",
       "      <td>0</td>\n",
       "      <td>Hanken</td>\n",
       "      <td>Arkadiankatu 22, 00100 Helsinki, Finland</td>\n",
       "      <td>Forum</td>\n",
       "    </tr>\n",
       "    <tr>\n",
       "      <th>1</th>\n",
       "      <td>POINT (25496350.539 6676547.800)</td>\n",
       "      <td>Haaga-Helia Pasilan kampus, 13, Ratapihantie, ...</td>\n",
       "      <td>1</td>\n",
       "      <td>Haaga_Helia</td>\n",
       "      <td>Ratapihantie 13, 00520 Helsinki, Finland</td>\n",
       "      <td>Tripla</td>\n",
       "    </tr>\n",
       "    <tr>\n",
       "      <th>2</th>\n",
       "      <td>POINT (25497154.366 6672982.716)</td>\n",
       "      <td>UniSport, Kluuvi, 4, Yliopistonkatu, Kaisaniem...</td>\n",
       "      <td>2</td>\n",
       "      <td>Helsingin_yliopisto_keskusta</td>\n",
       "      <td>Yliopistonkatu 4, 00100, Finland</td>\n",
       "      <td>Forum</td>\n",
       "    </tr>\n",
       "    <tr>\n",
       "      <th>3</th>\n",
       "      <td>POINT (25490567.102 6674840.792)</td>\n",
       "      <td>Aalto-yliopisto Kandidaattikeskus, 1, Otakaari...</td>\n",
       "      <td>3</td>\n",
       "      <td>Aalto</td>\n",
       "      <td>Otakaari 1, 02150 Espoo, Finland</td>\n",
       "      <td>Sello</td>\n",
       "    </tr>\n",
       "    <tr>\n",
       "      <th>4</th>\n",
       "      <td>POINT (25500979.281 6679334.084)</td>\n",
       "      <td>Helsingin yliopisto, Viikin kampusalue, Vierin...</td>\n",
       "      <td>4</td>\n",
       "      <td>Viikki</td>\n",
       "      <td>Viikin kampus, 00790 Helsinki, Finland</td>\n",
       "      <td>Itis</td>\n",
       "    </tr>\n",
       "    <tr>\n",
       "      <th>5</th>\n",
       "      <td>POINT (25497942.152 6676901.898)</td>\n",
       "      <td>Unicafe Physicum, 2, Gustaf Hällströmin katu, ...</td>\n",
       "      <td>5</td>\n",
       "      <td>Kumpula</td>\n",
       "      <td>Gustaf Hällströmin katu 2, 00560 Helsinki, Fin...</td>\n",
       "      <td>Tripla</td>\n",
       "    </tr>\n",
       "  </tbody>\n",
       "</table>\n",
       "</div>"
      ],
      "text/plain": [
       "                           geometry  \\\n",
       "0  POINT (25495794.198 6673144.763)   \n",
       "1  POINT (25496350.539 6676547.800)   \n",
       "2  POINT (25497154.366 6672982.716)   \n",
       "3  POINT (25490567.102 6674840.792)   \n",
       "4  POINT (25500979.281 6679334.084)   \n",
       "5  POINT (25497942.152 6676901.898)   \n",
       "\n",
       "                                             address  id  \\\n",
       "0  22, Arkadiankatu, Töölö, Eteläinen suurpiiri, ...   0   \n",
       "1  Haaga-Helia Pasilan kampus, 13, Ratapihantie, ...   1   \n",
       "2  UniSport, Kluuvi, 4, Yliopistonkatu, Kaisaniem...   2   \n",
       "3  Aalto-yliopisto Kandidaattikeskus, 1, Otakaari...   3   \n",
       "4  Helsingin yliopisto, Viikin kampusalue, Vierin...   4   \n",
       "5  Unicafe Physicum, 2, Gustaf Hällströmin katu, ...   5   \n",
       "\n",
       "                           name  \\\n",
       "0                        Hanken   \n",
       "1                   Haaga_Helia   \n",
       "2  Helsingin_yliopisto_keskusta   \n",
       "3                         Aalto   \n",
       "4                        Viikki   \n",
       "5                       Kumpula   \n",
       "\n",
       "                                                addr nearest_shop  \n",
       "0           Arkadiankatu 22, 00100 Helsinki, Finland        Forum  \n",
       "1           Ratapihantie 13, 00520 Helsinki, Finland       Tripla  \n",
       "2                   Yliopistonkatu 4, 00100, Finland        Forum  \n",
       "3                   Otakaari 1, 02150 Espoo, Finland        Sello  \n",
       "4             Viikin kampus, 00790 Helsinki, Finland         Itis  \n",
       "5  Gustaf Hällströmin katu 2, 00560 Helsinki, Fin...       Tripla  "
      ]
     },
     "execution_count": 131,
     "metadata": {},
     "output_type": "execute_result"
    }
   ],
   "source": [
    "geo_uni"
   ]
  },
  {
   "cell_type": "code",
   "execution_count": 132,
   "metadata": {},
   "outputs": [
    {
     "name": "stdout",
     "output_type": "stream",
     "text": [
      "The nearest shop for Hanken is Forum\n",
      "The nearest shop for Haaga_Helia is Tripla\n",
      "The nearest shop for Helsingin_yliopisto_keskusta is Forum\n",
      "The nearest shop for Aalto is Sello\n",
      "The nearest shop for Viikki is Itis\n",
      "The nearest shop for Kumpula is Tripla\n"
     ]
    }
   ],
   "source": [
    "for school, shop in zip(geo_uni['name'], geo_uni['nearest_shop']):\n",
    "    print(\"The nearest shop for\", school, \"is\", shop)"
   ]
  },
  {
   "cell_type": "code",
   "execution_count": null,
   "metadata": {},
   "outputs": [],
   "source": []
  }
 ],
 "metadata": {
  "anaconda-cloud": {},
  "kernelspec": {
   "display_name": "Python 3 (ipykernel)",
   "language": "python",
   "name": "python3"
  },
  "language_info": {
   "codemirror_mode": {
    "name": "ipython",
    "version": 3
   },
   "file_extension": ".py",
   "mimetype": "text/x-python",
   "name": "python",
   "nbconvert_exporter": "python",
   "pygments_lexer": "ipython3",
   "version": "3.9.13"
  }
 },
 "nbformat": 4,
 "nbformat_minor": 4
}
